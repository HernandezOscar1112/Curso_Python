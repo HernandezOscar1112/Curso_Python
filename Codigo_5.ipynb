{
  "nbformat": 4,
  "nbformat_minor": 0,
  "metadata": {
    "colab": {
      "name": "Codigo_5.ipynb",
      "provenance": [],
      "collapsed_sections": []
    },
    "kernelspec": {
      "name": "python3",
      "display_name": "Python 3"
    }
  },
  "cells": [
    {
      "cell_type": "markdown",
      "metadata": {
        "id": "CWXwfoh5G-7v"
      },
      "source": [
        "INDICES EN LISTAS "
      ]
    },
    {
      "cell_type": "code",
      "metadata": {
        "colab": {
          "base_uri": "https://localhost:8080/"
        },
        "id": "fq_cdEBaHBkY",
        "outputId": "4cdb6072-14ee-4eb0-fb22-6555f54d4a4b"
      },
      "source": [
        "a = [422, 34, 654, 231] #Tienen un indice asociado a su posicion en dicha lista\r\n",
        "#pos 0,1,2,3,4,...\r\n",
        "print(a)\r\n",
        "a[0]\r\n",
        "a[2]"
      ],
      "execution_count": 7,
      "outputs": [
        {
          "output_type": "stream",
          "text": [
            "[422, 34, 654, 231]\n"
          ],
          "name": "stdout"
        },
        {
          "output_type": "execute_result",
          "data": {
            "text/plain": [
              "654"
            ]
          },
          "metadata": {
            "tags": []
          },
          "execution_count": 7
        }
      ]
    },
    {
      "cell_type": "markdown",
      "metadata": {
        "id": "CNuI7scuH88M"
      },
      "source": [
        "Añadir Listas "
      ]
    },
    {
      "cell_type": "code",
      "metadata": {
        "colab": {
          "base_uri": "https://localhost:8080/"
        },
        "id": "GEYzJSRhH_JU",
        "outputId": "809f679b-3457-4991-a043-109bd66fcdb1"
      },
      "source": [
        "B = [1, 5, 3, 2, 6, 9]\r\n",
        "B.append(0)\r\n",
        "print(B)\r\n"
      ],
      "execution_count": 11,
      "outputs": [
        {
          "output_type": "stream",
          "text": [
            "[1, 5, 3, 2, 6, 9, 0]\n"
          ],
          "name": "stdout"
        }
      ]
    },
    {
      "cell_type": "code",
      "metadata": {
        "colab": {
          "base_uri": "https://localhost:8080/"
        },
        "id": "lBFpoKU7Ixxg",
        "outputId": "a37b657b-ba83-432a-c24d-c62380b3c6fe"
      },
      "source": [
        "C = [] \r\n",
        "C.append([1,4,5,2])\r\n",
        "C.append([5,6,2,4])\r\n",
        "C.append([3,5,6,2])\r\n",
        "print(C)\r\n"
      ],
      "execution_count": 31,
      "outputs": [
        {
          "output_type": "stream",
          "text": [
            "[[1, 4, 5, 2], [5, 6, 2, 4], [3, 5, 6, 2]]\n"
          ],
          "name": "stdout"
        }
      ]
    },
    {
      "cell_type": "code",
      "metadata": {
        "colab": {
          "base_uri": "https://localhost:8080/"
        },
        "id": "ZNJZ6TypKB9G",
        "outputId": "cf02aa98-95a4-49da-a43b-e963bf2bf224"
      },
      "source": [
        "import numpy as np\r\n",
        "C = np.array(C)\r\n",
        "print(C)  \r\n"
      ],
      "execution_count": 32,
      "outputs": [
        {
          "output_type": "stream",
          "text": [
            "[[1 4 5 2]\n",
            " [5 6 2 4]\n",
            " [3 5 6 2]]\n"
          ],
          "name": "stdout"
        }
      ]
    },
    {
      "cell_type": "markdown",
      "metadata": {
        "id": "CSgpP-OUxfMX"
      },
      "source": [
        "OPERACIONES DE LISTAS "
      ]
    },
    {
      "cell_type": "code",
      "metadata": {
        "colab": {
          "base_uri": "https://localhost:8080/"
        },
        "id": "OKsptEKyvi7b",
        "outputId": "3e46de82-7ede-40f2-ab28-20429717cedf"
      },
      "source": [
        "#print(C[2]) #mostrar segunda lista \r\n",
        "print(C[2][3])  #para mostrar la posicion 3 de la lista 2\r\n"
      ],
      "execution_count": 47,
      "outputs": [
        {
          "output_type": "stream",
          "text": [
            "2\n"
          ],
          "name": "stdout"
        }
      ]
    },
    {
      "cell_type": "code",
      "metadata": {
        "colab": {
          "base_uri": "https://localhost:8080/"
        },
        "id": "crLRsNmU16Gr",
        "outputId": "f8579457-4ab6-4ffc-ecec-d8e4f6a99ccf"
      },
      "source": [
        "D = [1,4,3,2,5,4]\r\n",
        "print(D)"
      ],
      "execution_count": 49,
      "outputs": [
        {
          "output_type": "stream",
          "text": [
            "[1, 4, 3, 2, 5, 4]\n"
          ],
          "name": "stdout"
        }
      ]
    },
    {
      "cell_type": "code",
      "metadata": {
        "colab": {
          "base_uri": "https://localhost:8080/"
        },
        "id": "dPUM244R1-fF",
        "outputId": "3fe7e086-b438-477f-e5a9-459067f07550"
      },
      "source": [
        "suma = sum(D)\r\n",
        "print(suma)\r\n"
      ],
      "execution_count": 52,
      "outputs": [
        {
          "output_type": "stream",
          "text": [
            "19\n"
          ],
          "name": "stdout"
        }
      ]
    },
    {
      "cell_type": "code",
      "metadata": {
        "colab": {
          "base_uri": "https://localhost:8080/"
        },
        "id": "-dMN-fvc2PgA",
        "outputId": "bf511d10-f0f7-41f4-b291-a8fe210907ab"
      },
      "source": [
        "longitud = len(D)\r\n",
        "print(longitud)"
      ],
      "execution_count": 56,
      "outputs": [
        {
          "output_type": "stream",
          "text": [
            "6\n"
          ],
          "name": "stdout"
        }
      ]
    },
    {
      "cell_type": "markdown",
      "metadata": {
        "id": "1IPQv37C3_4u"
      },
      "source": [
        "PROMEDIO DE UN ARREGLO "
      ]
    },
    {
      "cell_type": "code",
      "metadata": {
        "colab": {
          "base_uri": "https://localhost:8080/"
        },
        "id": "XIKZwsYX2d8Q",
        "outputId": "14500b5c-8845-4382-df99-12d6ed268223"
      },
      "source": [
        "promedio = sum(D)/len(D)\r\n",
        "print(promedio)\r\n"
      ],
      "execution_count": 58,
      "outputs": [
        {
          "output_type": "stream",
          "text": [
            "3.1666666666666665\n"
          ],
          "name": "stdout"
        }
      ]
    },
    {
      "cell_type": "code",
      "metadata": {
        "colab": {
          "base_uri": "https://localhost:8080/"
        },
        "id": "Ep1duCru22X2",
        "outputId": "3332b965-dde3-458a-e557-b325e66e5446"
      },
      "source": [
        "import statistics as st\r\n",
        "promedio_2 = st.mean(D)\r\n",
        "print(promedio_2)\r\n"
      ],
      "execution_count": 63,
      "outputs": [
        {
          "output_type": "stream",
          "text": [
            "3.1666666666666665\n"
          ],
          "name": "stdout"
        }
      ]
    },
    {
      "cell_type": "code",
      "metadata": {
        "colab": {
          "base_uri": "https://localhost:8080/"
        },
        "id": "HWAFMdsr3mKA",
        "outputId": "c0b45761-715d-4471-b189-6f9e3d3983a3"
      },
      "source": [
        "import statistics\r\n",
        "promedio_3 = statistics.mean(D)\r\n",
        "print(promedio_3)"
      ],
      "execution_count": 66,
      "outputs": [
        {
          "output_type": "stream",
          "text": [
            "3.1666666666666665\n"
          ],
          "name": "stdout"
        }
      ]
    },
    {
      "cell_type": "code",
      "metadata": {
        "id": "kC_FZeji34OH"
      },
      "source": [
        ""
      ],
      "execution_count": null,
      "outputs": []
    },
    {
      "cell_type": "markdown",
      "metadata": {
        "id": "giyAPcEi4Iva"
      },
      "source": [
        "LISTA CON STRINGS"
      ]
    },
    {
      "cell_type": "code",
      "metadata": {
        "colab": {
          "base_uri": "https://localhost:8080/"
        },
        "id": "SCT4Yvco4MHC",
        "outputId": "a6126058-e8be-4aa9-c11d-38e30c6fb156"
      },
      "source": [
        "string = [\"ags\", \"arjd\", \"jad\", \"jsha\"]\r\n",
        "#print(string) \r\n",
        "print(string[1][2]) #mostrar la posicion 2 de la string 1\r\n"
      ],
      "execution_count": 72,
      "outputs": [
        {
          "output_type": "stream",
          "text": [
            "j\n"
          ],
          "name": "stdout"
        }
      ]
    },
    {
      "cell_type": "code",
      "metadata": {
        "colab": {
          "base_uri": "https://localhost:8080/"
        },
        "id": "3iM7cSeM5FAh",
        "outputId": "2198a5c8-89f6-42a8-9188-0655d54d31c2"
      },
      "source": [
        "longitud = len(string)\r\n",
        "print(longitud)"
      ],
      "execution_count": 73,
      "outputs": [
        {
          "output_type": "stream",
          "text": [
            "4\n"
          ],
          "name": "stdout"
        }
      ]
    },
    {
      "cell_type": "code",
      "metadata": {
        "colab": {
          "base_uri": "https://localhost:8080/"
        },
        "id": "ta2ZMUz45QLw",
        "outputId": "8fc3abfb-45e2-4a6b-defa-1a8f34142491"
      },
      "source": [
        "print(string[2][0:2])"
      ],
      "execution_count": 75,
      "outputs": [
        {
          "output_type": "stream",
          "text": [
            "ja\n"
          ],
          "name": "stdout"
        }
      ]
    },
    {
      "cell_type": "code",
      "metadata": {
        "id": "-CKzdUcX5pTC"
      },
      "source": [
        ""
      ],
      "execution_count": null,
      "outputs": []
    },
    {
      "cell_type": "markdown",
      "metadata": {
        "id": "DzFoArym5ykJ"
      },
      "source": [
        "DICCIONARIOS"
      ]
    },
    {
      "cell_type": "code",
      "metadata": {
        "colab": {
          "base_uri": "https://localhost:8080/"
        },
        "id": "5hx-BftV50r9",
        "outputId": "3ffca2cc-f90b-4681-c7a2-5e1280accb4c"
      },
      "source": [
        "datos_alumno = {\r\n",
        "    'Nombre' :'Martin',\r\n",
        "    'Apellido' :'Martinez',\r\n",
        "    'Matricula' : '19002312',\r\n",
        "    'Horario' : 'Matutino',\r\n",
        "    'Beca' : 'NO'\r\n",
        "}\r\n",
        "print(datos_alumno['Beca'])\r\n"
      ],
      "execution_count": 90,
      "outputs": [
        {
          "output_type": "stream",
          "text": [
            "NO\n"
          ],
          "name": "stdout"
        }
      ]
    },
    {
      "cell_type": "code",
      "metadata": {
        "colab": {
          "base_uri": "https://localhost:8080/"
        },
        "id": "V6P7XAKe8RKq",
        "outputId": "c24499f1-51ab-41a7-9577-149db811645c"
      },
      "source": [
        "datos_alumno.update({'materias': [ 'fisica', 'quimica', 'programacion']})\r\n",
        "print(datos_alumno)"
      ],
      "execution_count": 96,
      "outputs": [
        {
          "output_type": "stream",
          "text": [
            "{'Nombre': 'Martin', 'Apellido': 'Martinez', 'Matricula': '19002312', 'Horario': 'Matutino', 'Beca': 'NO', 'materias': ['fisica', 'quimica', 'programacion']}\n"
          ],
          "name": "stdout"
        }
      ]
    },
    {
      "cell_type": "code",
      "metadata": {
        "colab": {
          "base_uri": "https://localhost:8080/"
        },
        "id": "Z5xhU-ER9y9I",
        "outputId": "0265bc06-f521-4ca5-da75-d0e5d08313d1"
      },
      "source": [
        "print(datos_alumno['materias'])\r\n",
        "print(datos_alumno['materias'][0:2])"
      ],
      "execution_count": 99,
      "outputs": [
        {
          "output_type": "stream",
          "text": [
            "['fisica', 'quimica', 'programacion']\n",
            "['fisica', 'quimica']\n"
          ],
          "name": "stdout"
        }
      ]
    },
    {
      "cell_type": "markdown",
      "metadata": {
        "id": "nm6luWAS9-wu"
      },
      "source": [
        "DICCIONARIOS ANIDADOS"
      ]
    },
    {
      "cell_type": "code",
      "metadata": {
        "colab": {
          "base_uri": "https://localhost:8080/"
        },
        "id": "RM-2c2sb-C3c",
        "outputId": "5f5ad1cd-5cd4-4038-a0c6-2a83c0e244cf"
      },
      "source": [
        "pacientes = [\r\n",
        "    {\r\n",
        "     'Nombre':'Cruz',\r\n",
        "     'Seguro':'Si',\r\n",
        "     'ID_seguro':'128392010',\r\n",
        "     'Covid':'Si',\r\n",
        "     'G_sanguineo':'AB+'\r\n",
        "    },\r\n",
        "\r\n",
        "    {\r\n",
        "     'Nombre':'Martin',\r\n",
        "     'Seguro':'Si',\r\n",
        "     'ID_seguro':'193827432',\r\n",
        "     'Covid':'No',\r\n",
        "     'G_sanguineo':'A+'\r\n",
        "    },\r\n",
        "\r\n",
        "    {\r\n",
        "     'Nombre':'Pedro',\r\n",
        "     'Seguro':'SI',\r\n",
        "     'ID_seguro':'123928381',\r\n",
        "     'Covid':'No',\r\n",
        "     'G_sanguineo':'B+',\r\n",
        "    }\r\n",
        "]\r\n",
        "\r\n",
        "print(pacientes[1]['Nombre'])\r\n",
        "print(pacientes[1]['Seguro'])\r\n",
        "print(pacientes[1]['ID_seguro'])\r\n"
      ],
      "execution_count": 102,
      "outputs": [
        {
          "output_type": "stream",
          "text": [
            "Martin\n",
            "Si\n",
            "193827432\n"
          ],
          "name": "stdout"
        }
      ]
    },
    {
      "cell_type": "code",
      "metadata": {
        "id": "YOee_J_h-alo"
      },
      "source": [
        ""
      ],
      "execution_count": null,
      "outputs": []
    }
  ]
}