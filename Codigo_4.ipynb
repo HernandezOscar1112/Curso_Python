{
  "nbformat": 4,
  "nbformat_minor": 0,
  "metadata": {
    "colab": {
      "name": "Codigo 4.ipynb",
      "provenance": [],
      "collapsed_sections": []
    },
    "kernelspec": {
      "name": "python3",
      "display_name": "Python 3"
    }
  },
  "cells": [
    {
      "cell_type": "code",
      "metadata": {
        "colab": {
          "base_uri": "https://localhost:8080/"
        },
        "id": "tOJFwecG8_CW",
        "outputId": "5c2d632b-2ddf-45b9-e972-68de74fb9a0c"
      },
      "source": [
        "#Conversion de unidades sirve para pasar de un tipo de variable a otro \r\n",
        "\r\n",
        "a = 24 \r\n",
        "b = \"20\"\r\n",
        "c = a * b \r\n",
        "print(c)"
      ],
      "execution_count": null,
      "outputs": [
        {
          "output_type": "stream",
          "text": [
            "202020202020202020202020202020202020202020202020\n"
          ],
          "name": "stdout"
        }
      ]
    },
    {
      "cell_type": "code",
      "metadata": {
        "colab": {
          "base_uri": "https://localhost:8080/"
        },
        "id": "7NpJVXJl96qV",
        "outputId": "91b0ba72-d252-4ab2-a11c-44bdd20bac42"
      },
      "source": [
        "#r = \"30\"\r\n",
        "#print(type(r))\r\n",
        "s = int(r)  #Se da el cambio de unidad 'str' a 'int' \r\n",
        "#print(type(s))\r\n",
        "#Esto nos sirve para guardad la variable 'r = 30' en tipo 'str' y de igual manera \r\n",
        "# la variable 'r = int(r)' en tipo 'int' \r\n",
        "\r\n",
        "r = 30\r\n",
        "print(type(r))\r\n",
        "r = int(r)  #Se da el cambio de unidad 'str' a 'int' \r\n",
        "print(type(r))\r\n",
        "#Ahora solo tenemos una variable y tiene valor en 'int' y 'str' \r\n",
        "#s = r + 4\r\n",
        "#print(s)"
      ],
      "execution_count": null,
      "outputs": [
        {
          "output_type": "stream",
          "text": [
            "<class 'int'>\n",
            "<class 'int'>\n"
          ],
          "name": "stdout"
        }
      ]
    },
    {
      "cell_type": "code",
      "metadata": {
        "colab": {
          "base_uri": "https://localhost:8080/"
        },
        "id": "QPIWeTsDBdwH",
        "outputId": "64425286-f896-479d-baed-0bf7ce179fbd"
      },
      "source": [
        "r = 24\r\n",
        "print(type(r))\r\n",
        "r = str(r)\r\n",
        "print(type(r))\r\n",
        "#s = r + 2\r\n",
        "s = \"Numero: \" + r\r\n",
        "\r\n",
        "print(s)"
      ],
      "execution_count": null,
      "outputs": [
        {
          "output_type": "stream",
          "text": [
            "<class 'int'>\n",
            "<class 'str'>\n",
            "Numero: 24\n"
          ],
          "name": "stdout"
        }
      ]
    },
    {
      "cell_type": "code",
      "metadata": {
        "id": "TqtcbvXfCeqB"
      },
      "source": [
        "# Este programa pide la edad al usuario y esta se convierte a 'flot' para poder realizar operaciones con ese dato\r\n",
        "Edad = float(input(\"Introduce tu edad: \"))\r\n",
        "print(type(Edad))\r\n",
        "Edad_nueva = Edad * 2 - 2 \r\n",
        "print(Edad_nueva)"
      ],
      "execution_count": null,
      "outputs": []
    }
  ]
}