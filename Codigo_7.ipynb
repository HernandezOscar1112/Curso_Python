{
  "nbformat": 4,
  "nbformat_minor": 0,
  "metadata": {
    "colab": {
      "name": "Codigo_7.ipynb",
      "provenance": [],
      "collapsed_sections": []
    },
    "kernelspec": {
      "name": "python3",
      "display_name": "Python 3"
    }
  },
  "cells": [
    {
      "cell_type": "code",
      "metadata": {
        "id": "yUn6f4aqPOid"
      },
      "source": [
        ""
      ],
      "execution_count": null,
      "outputs": []
    },
    {
      "cell_type": "markdown",
      "metadata": {
        "id": "Sl2vIGDzQfyU"
      },
      "source": [
        "CONDICIONALES \r\n"
      ]
    },
    {
      "cell_type": "markdown",
      "metadata": {
        "id": "rEgwI6tLZKNo"
      },
      "source": [
        "**Operadores**\r\n",
        "\r\n",
        "\r\n",
        "Igual que ---------- ==\r\n",
        "\r\n",
        "Mayor que ---------- >\r\n",
        "\r\n",
        "Menor que ---------- <\r\n",
        "\r\n",
        "Mayor o igual que -- >=\r\n",
        "\r\n",
        "Menor o igual que -- <=\r\n",
        "\r\n",
        "Diferente que ------- !=\r\n",
        "\r\n",
        "|"
      ]
    },
    {
      "cell_type": "code",
      "metadata": {
        "colab": {
          "base_uri": "https://localhost:8080/"
        },
        "id": "lwlSXX28Qhoq",
        "outputId": "77cf34f9-a3e3-4fb7-b99d-a7b2602ab65c"
      },
      "source": [
        "#Realizar una cierta opcion bajo una condicion \r\n",
        "if True:   #se define la situacion en 'True' \r\n",
        "if False:  \r\n",
        "  print(\"Hola\")\r\n",
        "else: \r\n",
        "    print(\"Adios\")\r\n"
      ],
      "execution_count": null,
      "outputs": [
        {
          "output_type": "stream",
          "text": [
            "Adios\n"
          ],
          "name": "stdout"
        }
      ]
    },
    {
      "cell_type": "code",
      "metadata": {
        "colab": {
          "base_uri": "https://localhost:8080/"
        },
        "id": "R_v06BcWRlly",
        "outputId": "b98dc8c9-10e0-4576-88f2-e16fc9943249"
      },
      "source": [
        "print(\"Bienvenido al club de futbol\")\r\n",
        "\r\n",
        "\r\n",
        "edad = 19 \r\n",
        "print(\"Tienes \" + str(edad) + \" años\")\r\n",
        "\r\n",
        "if edad < 18: \r\n",
        "  print(\"Necesitas carta de tus padres\")\r\n",
        "else : \r\n",
        "  print(\"Puedes acceder sin problema\")\r\n"
      ],
      "execution_count": null,
      "outputs": [
        {
          "output_type": "stream",
          "text": [
            "Bienvenido al club de futbol\n",
            "Tienes 19 años\n",
            "Puedes acceder sin problema\n"
          ],
          "name": "stdout"
        }
      ]
    },
    {
      "cell_type": "markdown",
      "metadata": {
        "id": "KcQgUkeYY5tg"
      },
      "source": [
        "**ELIF**\r\n",
        "\r\n",
        "\r\n",
        "Si tu quisieras agregar más de una condición para realizar diferentes acciones, puedes usar elif para este caso."
      ]
    },
    {
      "cell_type": "code",
      "metadata": {
        "colab": {
          "base_uri": "https://localhost:8080/"
        },
        "id": "PvmHenVAY_tD",
        "outputId": "b103d58c-1411-4900-e140-70275f5511ae"
      },
      "source": [
        "Hambre = True\r\n",
        "Sed = False\r\n",
        "\r\n",
        "if not Hambre:                 # CON \"not\" cambias el valor booleano, not True = False y not False = True\r\n",
        "  print(\"Come algo\")\r\n",
        "elif not Sed:\r\n",
        "  print(\"Bebe algo\")\r\n",
        "else:\r\n",
        "  print(\"Estás satisfecho\")"
      ],
      "execution_count": null,
      "outputs": [
        {
          "output_type": "stream",
          "text": [
            "Bebe algo\n"
          ],
          "name": "stdout"
        }
      ]
    },
    {
      "cell_type": "code",
      "metadata": {
        "colab": {
          "base_uri": "https://localhost:8080/"
        },
        "id": "LU-JqbfuTwqP",
        "outputId": "a04ce9fc-4ff9-41ef-d399-98a4cd10d2c6"
      },
      "source": [
        "calificacion = 7 \r\n",
        "if calificacion == 8: \r\n",
        " print(\"Felicidades pero necesitas mejorar\")\r\n",
        "elif calificacion ==9: \r\n",
        "  print(\"Felicidades has aprobado\")\r\n",
        "else:  \r\n",
        "  print(\"Suerte para la proxima \")"
      ],
      "execution_count": null,
      "outputs": [
        {
          "output_type": "stream",
          "text": [
            "Suerte para la proxima \n"
          ],
          "name": "stdout"
        }
      ]
    },
    {
      "cell_type": "markdown",
      "metadata": {
        "id": "KCtQG-m3YODy"
      },
      "source": [
        "OR Y AND¶\r\n",
        "\r\n",
        "Si a diferencia del anterior caso, tú quieres hacer una misma acción para varias condiciones, puedes usar el or o el and.\r\n",
        "\r\n",
        "or\r\n",
        "\r\n",
        "Una de las condiciones debe ser verdad para que el condicional sea True.\r\n",
        "\r\n",
        "and\r\n",
        "\r\n",
        "Todas las condiciones deben ser verdad para que el condicional sea True.\r\n",
        "\r\n",
        "OJO Si quieres pasar de renglón y continuar la condición debes encerrar todo entre paréntesis \"( )\""
      ]
    },
    {
      "cell_type": "code",
      "metadata": {
        "colab": {
          "base_uri": "https://localhost:8080/"
        },
        "id": "MN1AtqttYXXE",
        "outputId": "652f3558-3681-4653-889c-314e4c80db3f"
      },
      "source": [
        "# SE CUMPLE EL SEGUNDO 'print' \r\n",
        "Carne = \"Doble triple\"\r\n",
        "Salsa = \"De Coral\"\r\n",
        "Decorado = \"De lujo\"\r\n",
        "Estilo = \"Animal\"\r\n",
        "Guijarros = \"Extra\"\r\n",
        "Vibración = \"Exprimida\"\r\n",
        "Eje = \"Con grasa ligera\"\r\n",
        "Hazlo = \"Llorar\"\r\n",
        "Quémalo = \"Sí\"\r\n",
        "Nadando = \"Sí\"\r\n",
        "Pepinillos = \"Sí\"\r\n",
        "\r\n",
        "\r\n",
        "if (Carne == \"Doble triple\" and \r\n",
        "Salsa == \"De Coral\" and\r\n",
        "Decorado == \"De lujo\" and\r\n",
        "Estilo == \"Animal\" and \r\n",
        "Guijarros == \"Extra\" and\r\n",
        "Vibración == \"Exprimida\" and\r\n",
        "Eje == \"Con grasa ligera\" and \r\n",
        "Hazlo == \"Llorar\" and\r\n",
        "Quémalo == \"Sí\" and\r\n",
        "Nadando == \"Sí\" and\r\n",
        "Pepinillos == \"No\"):\r\n",
        "  print(\"Quiere la kangreburguer\")\r\n",
        "else:\r\n",
        "  print(\"No quiere la kangrebuger\")"
      ],
      "execution_count": null,
      "outputs": [
        {
          "output_type": "stream",
          "text": [
            "No quiere la kangrebuger\n"
          ],
          "name": "stdout"
        }
      ]
    },
    {
      "cell_type": "code",
      "metadata": {
        "colab": {
          "base_uri": "https://localhost:8080/"
        },
        "id": "Pxqk1bx2UKrk",
        "outputId": "fa2f3681-f944-4acc-92c3-8631009ed561"
      },
      "source": [
        "#SE CUMPLE EL PRIMER 'print'    CODIGO DE TAREA\r\n",
        "Carne_doble_triple = True\r\n",
        "Salsa_de_coral = True \r\n",
        "Decorado_de_lujo = True\r\n",
        "Estilo_animal = True \r\n",
        "Guijarros_extra = True\r\n",
        "Vibración_exprimida = True\r\n",
        "Eje_con_grasa_ligera = True\r\n",
        "Hazlo_llorar = True\r\n",
        "Quemado = True \r\n",
        "Nadando = True\r\n",
        "Pepinillos = True\r\n",
        "\r\n",
        "\r\n",
        "if (Carne_doble_triple or \r\n",
        "Salsa_de_coral or\r\n",
        "Decorado_de_lujo or\r\n",
        "Estilo_animal or \r\n",
        "Guijarros_extra or \r\n",
        "Vibración_exprimida or \r\n",
        "Eje_con_grasa_ligera or \r\n",
        "Hazlo_llorar or \r\n",
        "Quemado or \r\n",
        "Nadando or \r\n",
        "Pepinillos ):\r\n",
        "  print(\"Quiere la kangreburguer\")\r\n",
        "else:\r\n",
        "  print(\"No quiere la kangrebuger\")\r\n"
      ],
      "execution_count": null,
      "outputs": [
        {
          "output_type": "stream",
          "text": [
            "Quiere la kangreburguer\n"
          ],
          "name": "stdout"
        }
      ]
    },
    {
      "cell_type": "code",
      "metadata": {
        "id": "Er82SIQUYD9_"
      },
      "source": [
        ""
      ],
      "execution_count": null,
      "outputs": []
    }
  ]
}