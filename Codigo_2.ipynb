{
  "nbformat": 4,
  "nbformat_minor": 0,
  "metadata": {
    "colab": {
      "name": " Codigo 2.ipynb",
      "provenance": [],
      "collapsed_sections": []
    },
    "kernelspec": {
      "name": "python3",
      "display_name": "Python 3"
    }
  },
  "cells": [
    {
      "cell_type": "code",
      "metadata": {
        "colab": {
          "base_uri": "https://localhost:8080/"
        },
        "id": "TANPMvENb7es",
        "outputId": "2580c632-08e3-4a3e-9226-efe11044c121"
      },
      "source": [
        "# PRACTICA 1 \r\n",
        "\r\n",
        "# Crear una variable \r\n",
        "Mensaje = \"Hola\"\r\n",
        "\r\n",
        "# Imprimir la varibale \r\n",
        " print(Mensaje)\r\n",
        "\r\n",
        "print(\"\\t¿como estas? \\nestoy bien\")\r\n",
        "# \\n es un salto de linea \r\n",
        "# \\t es un tabulador \r\n"
      ],
      "execution_count": null,
      "outputs": [
        {
          "output_type": "stream",
          "text": [
            "\t¿como estas? \n",
            "estoy bien\n",
            "Estoy tomando un curso de programacion en python\n"
          ],
          "name": "stdout"
        }
      ]
    },
    {
      "cell_type": "code",
      "metadata": {
        "colab": {
          "base_uri": "https://localhost:8080/"
        },
        "id": "8OeMN4kaeoj-",
        "outputId": "de2d4b5f-6748-40f5-ec41-4e248ec1f5bd"
      },
      "source": [
        "# CONCATENACION DE STRING \r\n",
        "# Contatenar es unir o juntar varias palabras \r\n",
        "\r\n",
        "M_1 = \"Estoy\"\r\n",
        "M_2 = \" tomando un curso\" #se inicia con espacio para que se concatenen las palabras\r\n",
        "M_3 = \" de programacion en python\"\r\n",
        "M_total= M_1 + M_2 + M_3 \r\n",
        "\r\n",
        "print(M_total)\r\n",
        "print(M_1 + M_2 + M_3 + \" en linea\")\r\n",
        "\r\n"
      ],
      "execution_count": null,
      "outputs": [
        {
          "output_type": "stream",
          "text": [
            "Estoy tomando un curso de programacion en python\n",
            "Estoy tomando un curso de programacion en python en linea\n"
          ],
          "name": "stdout"
        }
      ]
    },
    {
      "cell_type": "code",
      "metadata": {
        "colab": {
          "base_uri": "https://localhost:8080/"
        },
        "id": "FouzW1N9f8e5",
        "outputId": "331108ea-8f04-48f0-e7bc-6b35fb660182"
      },
      "source": [
        "#No hacer esto \r\n",
        "\r\n",
        "Numero_1 = \"1\"\r\n",
        "Numero_2 = \"2\"\r\n",
        "Numero_3 = Numero_1 + Numero_2\r\n",
        "print(Numero_3)"
      ],
      "execution_count": null,
      "outputs": [
        {
          "output_type": "stream",
          "text": [
            "12\n"
          ],
          "name": "stdout"
        }
      ]
    },
    {
      "cell_type": "code",
      "metadata": {
        "colab": {
          "base_uri": "https://localhost:8080/"
        },
        "id": "i1ultJpqgOt0",
        "outputId": "e2d08730-fc80-43ca-d3c6-0ddd7217e7c8"
      },
      "source": [
        "print(\"¿Cual es tu nombre?\")\r\n",
        "\r\n",
        "#Solicitar al usuario un string \r\n",
        "Nombre = input()\r\n",
        "\r\n",
        "print(Nombre)\r\n",
        "#Solicitar al usuario un string mediante un mensaje \r\n",
        "Apellido = input(\"¿Cual es tu apellido? \")\r\n",
        "\r\n",
        "print(\"Mi nombre es\", Nombre, Apellido)"
      ],
      "execution_count": null,
      "outputs": [
        {
          "output_type": "stream",
          "text": [
            "¿Cual es tu nombre?\n",
            "Oscar \n",
            "Oscar \n",
            "¿Cual es tu apellido? Hernandez \n",
            "Mi nombre es Oscar  Hernandez \n"
          ],
          "name": "stdout"
        }
      ]
    },
    {
      "cell_type": "markdown",
      "metadata": {
        "id": "7FCjXvDUelmB"
      },
      "source": [
        ""
      ]
    }
  ]
}