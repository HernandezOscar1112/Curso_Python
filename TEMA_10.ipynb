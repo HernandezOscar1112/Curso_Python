{
  "nbformat": 4,
  "nbformat_minor": 0,
  "metadata": {
    "colab": {
      "name": "TEMA_10.ipynb",
      "provenance": [],
      "collapsed_sections": [],
      "authorship_tag": "ABX9TyMJahm6Qsq86Ku3BuQ45Tow",
      "include_colab_link": true
    },
    "kernelspec": {
      "name": "python3",
      "display_name": "Python 3"
    }
  },
  "cells": [
    {
      "cell_type": "markdown",
      "metadata": {
        "id": "view-in-github",
        "colab_type": "text"
      },
      "source": [
        "<a href=\"https://colab.research.google.com/github/HernandezOscar1112/Tareas_curso_python/blob/main/TEMA_10.ipynb\" target=\"_parent\"><img src=\"https://colab.research.google.com/assets/colab-badge.svg\" alt=\"Open In Colab\"/></a>"
      ]
    },
    {
      "cell_type": "markdown",
      "metadata": {
        "id": "P5YGxrOKjgIp"
      },
      "source": [
        "APERTURA DE ARCHIVOS \r\n"
      ]
    },
    {
      "cell_type": "code",
      "metadata": {
        "id": "mnFGOrVsjiQa"
      },
      "source": [
        "#Archivos de texto \r\n",
        "\r\n",
        "file = open(\"ejemplo.txt\",\"w\")\r\n",
        "file.write(\"Contenido a escribrir\")\r\n",
        "file.close()\r\n",
        "\r\n",
        "#'r' = por defecto es para leer el fichero \r\n",
        "# 'w' = para escribir en el fichero \r\n",
        "# 'x' = para la creacion, fallando si ya existe \r\n",
        "# 'a' = para añadir contenido a un fichero existente \r\n",
        "# 'b' = para abrir en modo binario \r\n",
        "\r\n"
      ],
      "execution_count": 22,
      "outputs": []
    },
    {
      "cell_type": "code",
      "metadata": {
        "colab": {
          "base_uri": "https://localhost:8080/"
        },
        "id": "NUogWAZ7Ihev",
        "outputId": "186099a6-48f8-40ed-a129-6219d873951e"
      },
      "source": [
        "file = open('ejemplo.txt', 'r') #el archivo esta solo en modo lectura \r\n",
        "print(file.readline())\r\n",
        "\r\n",
        "file.close()\r\n",
        "\r\n",
        "#print(file.readline(3)) #se agrega el 3 para solo imprimir los 3 caracteres primeros \r\n",
        "\r\n"
      ],
      "execution_count": 27,
      "outputs": [
        {
          "output_type": "stream",
          "text": [
            "Contenido a escribrir\n"
          ],
          "name": "stdout"
        }
      ]
    },
    {
      "cell_type": "code",
      "metadata": {
        "id": "cUW8ysTQI-St"
      },
      "source": [
        "lista = ['Mario\\n' , 'Pablo\\n' , 'Jesus'] #recordar que '\\n' es salto de linea \r\n",
        "with open('ejemplo.txt', 'w') as file: #'with' es para abrir el archivo  y se pone en modo 'w' write\r\n",
        "  file.writelines(lista)\r\n",
        "\r\n",
        "file.close()   "
      ],
      "execution_count": 40,
      "outputs": []
    },
    {
      "cell_type": "code",
      "metadata": {
        "colab": {
          "base_uri": "https://localhost:8080/"
        },
        "id": "R2b_6vhlJnfH",
        "outputId": "94c27e12-713d-4dee-a9de-70baebf204c7"
      },
      "source": [
        "with open('ejemplo.txt','r') as stop_words:\r\n",
        "  lineas = [linea.strip() for linea in stop_words]\r\n",
        "\r\n",
        "for linea in lineas:\r\n",
        "  print(linea)\r\n",
        "\r\n",
        "stop_words.close() #importante cerrar el archico despues de usar"
      ],
      "execution_count": 41,
      "outputs": [
        {
          "output_type": "stream",
          "text": [
            "Mario\n",
            "Pablo\n",
            "Jesus\n"
          ],
          "name": "stdout"
        }
      ]
    },
    {
      "cell_type": "code",
      "metadata": {
        "id": "Q6FjBbMqNBBO"
      },
      "source": [
        ""
      ],
      "execution_count": null,
      "outputs": []
    }
  ]
}