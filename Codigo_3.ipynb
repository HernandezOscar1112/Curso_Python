{
  "nbformat": 4,
  "nbformat_minor": 0,
  "metadata": {
    "colab": {
      "name": "Codigo 3.ipynb",
      "provenance": [],
      "collapsed_sections": []
    },
    "kernelspec": {
      "name": "python3",
      "display_name": "Python 3"
    }
  },
  "cells": [
    {
      "cell_type": "code",
      "metadata": {
        "colab": {
          "base_uri": "https://localhost:8080/"
        },
        "id": "HCi9GKvO3UCR",
        "outputId": "4f92d1a4-1b7d-4da3-e436-d615729a4b67"
      },
      "source": [
        "#Variables  #todas las variables son clases por lo tanto tienen metodos\r\n",
        "\r\n",
        "numero = 17 \r\n",
        "decimal = 0.7    #son de tipo flotante <class 'float'>\r\n",
        "texto = \"Texto\"  #string \r\n",
        "booleanos = True  # <class 'bool'>\r\n",
        "print (decimal)\r\n",
        "print(type(decimal))  \r\n",
        "\r\n",
        "#En pyhton se pueden usar << ñ,ó,Ö, etc>> cosa que otros lenguajes NO \r\n",
        "#Para definir variables no debes colocar numeros al principio del nombre solo al final por ejemplo:\r\n",
        "# 1bols = 5    bools1 = 5 \r\n",
        "\r\n",
        "#Tampoco se puede separar por espacios ni usar guion corto por ejemplo: \r\n",
        "#boo lean = 128   boo-lean = 128\r\n",
        "\r\n"
      ],
      "execution_count": null,
      "outputs": [
        {
          "output_type": "stream",
          "text": [
            "0.7\n",
            "<class 'float'>\n"
          ],
          "name": "stdout"
        }
      ]
    },
    {
      "cell_type": "code",
      "metadata": {
        "colab": {
          "base_uri": "https://localhost:8080/"
        },
        "id": "2K_d9-1T4_BG",
        "outputId": "3f2d9cf8-129f-4bc6-90a9-c0e5cc64438f"
      },
      "source": [
        "tupla = (\"Hola, 25\") #inmutable no puedes modificar una vez que declarados \r\n",
        "lista = [1,2,6,3,7,9] #Sin importa donde ponen los valores \r\n",
        "set_ = {1,2,56,66,1,2,56} #No se repiten los valores que tiene dentro\r\n",
        "diccionario = {1:1, 1:3} #Tiene una llave y un valor. \r\n",
        "\r\n",
        "print(tupla)\r\n",
        "print(type(tupla))\r\n",
        "print(lista)\r\n",
        "print(type(lista))\r\n",
        "print(set_)\r\n",
        "print(type(set_))\r\n",
        "print(diccionario)\r\n",
        "print(type(diccionario))\r\n",
        "\r\n"
      ],
      "execution_count": null,
      "outputs": [
        {
          "output_type": "stream",
          "text": [
            "Hola, 25\n",
            "<class 'str'>\n",
            "[1, 2, 6, 3, 7, 9]\n",
            "<class 'list'>\n",
            "{56, 1, 2, 66}\n",
            "<class 'set'>\n",
            "{1: 3}\n",
            "<class 'dict'>\n"
          ],
          "name": "stdout"
        }
      ]
    }
  ]
}